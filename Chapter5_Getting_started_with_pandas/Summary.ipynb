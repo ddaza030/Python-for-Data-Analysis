{
 "cells": [
  {
   "cell_type": "code",
   "execution_count": null,
   "metadata": {},
   "outputs": [],
   "source": [
    "df['nombre de la columna']  #nombre de columna o lista de columnas\n",
    "df.loc['indice de fila']\n",
    "df.loc['indice de fila','nombre de columna']\n",
    "df.loc[:,[lista de nombres de columnas]] #loc permite hacer slice\n",
    "df.iloc[indice de la fila en valor entero]  #muestra la final numero tal\n",
    "df.T #transpone la matriz\n",
    "df.T.loc['nombre de columna']\n",
    "df.drop('indice de la fila')  #devuelve una copia con el indice de la fila removido\n",
    "df.drop('Columna_name',inplace=True,axis=1) #sirve para eliminar una columna\n",
    "df.drop('Fila',inplace=True)     #sirve para eliminar una fila \n",
    "del df['Columna_name']    #sirve para eliminar columna tambien\n",
    "df['nueva columna'] = [lista] o non # para añadir columna\n",
    "df.loc['nueva fila']= [lista]   # para añadir nueva fila\n",
    "df.columns # lista con las columnas\n",
    "df.set_index('N') #cambiar indice a columna N o lista de columnas\n",
    "pd.read_csv('archivo.csv')  #read_csv para convertir archivo csv separado por comas en un dataframe\n",
    "pd.read_csv('archivo.csv',index_col=n) #para escoger que una columna n del archivo sea el indice\n",
    "df.rename(index={inicial: final})        #renombrar columnas o indices (SOLO ES COPIA)\n",
    "df.rename(mapper=str.strip, axis='columns') #para borar espacios en las columnas\n",
    "df.columns=[x.lower().strip() for x in df.colums]#para pasar columna a minuscula\n",
    "df.index     \n",
    "df['column_name'] > 0.7  #crear una lista de booleanos\n",
    "df.where(admit_mask)                #deja los filas <=0.7 como N/A\n",
    "df.where(admit_mask).dropna()       #elimina los false o N/a\n",
    "df[df['chance of admit'] > 0.7]     #lo minsmo pero más usado\n",
    "(df['chance of admit'] > 0.7) & (df['idk'] < 10) #otro tipo de mascaras para usar\n",
    "df['chance of admit'].gt(0.7).lt(10)             #una manera más comoda de usarlo\n",
    "df['nom_col'].unique()             #ver que valores tiene una columna"
   ]
  },
  {
   "cell_type": "code",
   "execution_count": null,
   "metadata": {},
   "outputs": [],
   "source": []
  }
 ],
 "metadata": {
  "kernelspec": {
   "display_name": "Python 3",
   "language": "python",
   "name": "python3"
  },
  "language_info": {
   "codemirror_mode": {
    "name": "ipython",
    "version": 3
   },
   "file_extension": ".py",
   "mimetype": "text/x-python",
   "name": "python",
   "nbconvert_exporter": "python",
   "pygments_lexer": "ipython3",
   "version": "3.8.8"
  }
 },
 "nbformat": 4,
 "nbformat_minor": 2
}
